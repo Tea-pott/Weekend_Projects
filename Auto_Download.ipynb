{
 "cells": [
  {
   "cell_type": "markdown",
   "id": "b3640439-be29-4be6-b59f-9740d19e419b",
   "metadata": {},
   "source": [
    "### Ver 1.1"
   ]
  },
  {
   "cell_type": "code",
   "execution_count": 1,
   "id": "a425f31b-d374-40f3-b748-2341ad1e3214",
   "metadata": {},
   "outputs": [],
   "source": [
    "# Download function\n",
    "import requests, sys, time\n",
    "\n",
    "def downloadFile(url, directory):\n",
    "    \n",
    "    local_name = os.path.basename(url).split('?')[0]\n",
    "    with open (directory + '/' + local_name, 'wb') as f:\n",
    "        start = time.perf_counter()\n",
    "        res = requests.get(url, stream = True)\n",
    "        res.raise_for_status()\n",
    "        \n",
    "        size = int(res.headers['Content-Length'])\n",
    "        mb = round(size/1048576, 2)\n",
    "        dl = 0\n",
    "        \n",
    "        if size is None: # no content\n",
    "            f.write(res.content)\n",
    "        else:\n",
    "            for chunk in res.iter_content(1024):\n",
    "                dl += len(chunk)\n",
    "                f.write(chunk)\n",
    "                done = int(20 * dl / size)\n",
    "                sys.stdout.write('\\r[%s%s] %s KB/sec' % ('=' * done, ' ' * (20 - done), (dl/1024)//(time.perf_counter() - start)))\n",
    "                sys.stdout.flush()\n",
    "    return (time.perf_counter() - start)\n",
    "\n",
    "def main():\n",
    "    \n",
    "    time_elapsed = round(downloadFile(url, directory) / 60, 0)\n",
    "    print('\\n',\"Download complete...\")\n",
    "    print(\"Time Elapsed = %s min\" %time_elapsed)\n",
    "    "
   ]
  },
  {
   "cell_type": "code",
   "execution_count": 2,
   "id": "3a984c53-e7b3-4487-8275-49f8224a79a8",
   "metadata": {},
   "outputs": [
    {
     "name": "stdout",
     "output_type": "stream",
     "text": [
      "Directory 'd:rdr' created\n"
     ]
    }
   ],
   "source": [
    "import bs4, os\n",
    "\n",
    "url = \"https://par30games.net/51032/download-disco-elysium-game-for-pc/\"\n",
    "\n",
    "folder = \"rdr\"\n",
    "directory = \"d:\"\n",
    "path = os.path.join(directory, folder)\n",
    "isDir = os.path.isdir(path)\n",
    "\n",
    "if isDir == True:\n",
    "    print('Directory alrealy exists.')\n",
    "else:\n",
    "    os.makedirs(path, exist_ok = True)\n",
    "    print(\"Directory '%s' created\" %path)"
   ]
  },
  {
   "cell_type": "code",
   "execution_count": null,
   "id": "e3707178-f4c1-4a15-9642-6217ffe05129",
   "metadata": {},
   "outputs": [
    {
     "name": "stdout",
     "output_type": "stream",
     "text": [
      "Downloading page https://par30games.net/51032/download-disco-elysium-game-for-pc/...\n",
      "[==========          ] 99.0 KB/secc"
     ]
    }
   ],
   "source": [
    "# Download the page\n",
    "print('Downloading page %s...' %url)\n",
    "res = requests.get(url)\n",
    "res.raise_for_status()\n",
    "\n",
    "soup = bs4.BeautifulSoup(res.text, 'html.parser')\n",
    "\n",
    "# Find the URL of the zip file\n",
    "f_elem = soup.select(\"div.tab-content > div.active > ul > li:nth-child(2) > a\")\n",
    "\n",
    "if f_elem == []:\n",
    "    pritn('Could not find the url.')\n",
    "else: \n",
    "    downurl = f_elem[0].get(\"href\")\n",
    "    \n",
    "    # URL name change\n",
    "    base_url = downurl.rsplit('/', 1)[0]\n",
    "    \n",
    "    newurl = os.path.basename(downurl).split('?')[0]\n",
    "    newurl = newurl.split('.')\n",
    "    newurl[-2] = 'part18'\n",
    "    newurl = '.'.join(newurl)\n",
    "    \n",
    "    downurl = '/'.join([base_url, newurl])\n",
    "    \n",
    "    directory = path\n",
    "    url = downurl\n",
    "    \n",
    "    main()"
   ]
  },
  {
   "cell_type": "markdown",
   "id": "a07dbe5c-a504-418d-b8c1-692f54cd6550",
   "metadata": {
    "jp-MarkdownHeadingCollapsed": true,
    "tags": []
   },
   "source": [
    "### Ver 1.0"
   ]
  },
  {
   "cell_type": "code",
   "execution_count": 25,
   "id": "c91dd0c6-4bf6-4d40-a45a-a48ec26d2880",
   "metadata": {},
   "outputs": [
    {
     "name": "stdout",
     "output_type": "stream",
     "text": [
      "Start time 18:04:28.361838\n",
      "D:\\rdr\n",
      "True\n"
     ]
    }
   ],
   "source": [
    "import requests, bs4, os\n",
    "from datetime import datetime\n",
    "\n",
    "start = datetime.now()\n",
    "print('Start time %s' %start.time())\n",
    "\n",
    "url = \"https://par30games.net/51032/download-disco-elysium-game-for-pc/\"\n",
    "\n",
    "folder = \"rdr\"\n",
    "directory = \"d:\"\n",
    "path = os.path.join(directory, folder)\n",
    "isDir = os.path.isdir(path)\n",
    "\n",
    "if isDir == True:\n",
    "    print('Directory alrealy exists.')\n",
    "else:\n",
    "    os.makedirs(path, exist_ok = True)\n",
    "    print(\"Directory '%s' created\" %path)"
   ]
  },
  {
   "cell_type": "code",
   "execution_count": 57,
   "id": "5e3be757-b6e1-40ca-80c7-30cb332e5786",
   "metadata": {},
   "outputs": [
    {
     "name": "stdout",
     "output_type": "stream",
     "text": [
      "Downloading page https://par30games.net/51032/download-disco-elysium-game-for-pc/...\n",
      "Downloading file http://dl7.pgupgame.com/game/pc/Disco.Elysium/Disco.Elysium.The.Final.Cut.v2832f901-CODEX-Par30Game.part18.rar...\n",
      "Content Size 52.97  MB\n",
      "Download progress 18.88  %\n",
      "Download progress 37.75  %\n",
      "Download progress 56.63  %\n",
      "Download progress 75.51  %\n",
      "Download progress 94.39  %\n",
      "Downloading d:rdr\\Disco.Elysium.The.Final.Cut.v2832f901-CODEX-Par30Game.part18.rar done.\n"
     ]
    }
   ],
   "source": [
    "# while not url.endswith(\"Disco.Elysium.The.Final.Cut.v2832f901-CODEX-Par30Game.part11.rar\"):\n",
    "\n",
    "# Download the page\n",
    "print('Downloading page %s...' %url)\n",
    "res = requests.get(url)\n",
    "res.raise_for_status()\n",
    "\n",
    "soup = bs4.BeautifulSoup(res.text, 'html.parser')\n",
    "\n",
    "# Find the URL of the zip file\n",
    "f_elem = soup.select(\"div.tab-content > div.active > ul > li:nth-child(2) > a\")\n",
    "\n",
    "if f_elem == []:\n",
    "    pritn('Could not find the url.')\n",
    "else:\n",
    "    downurl = f_elem[0].get(\"href\")\n",
    "    \n",
    "    # URL name change\n",
    "    base_url = downurl.rsplit('/', 1)[0]\n",
    "    \n",
    "    newurl = os.path.basename(downurl).split('?')[0]\n",
    "    newurl = newurl.split('.')\n",
    "    newurl[-2] = 'part18'\n",
    "    newurl = '.'.join(newurl)\n",
    "    \n",
    "    downurl = '/'.join([base_url, newurl])\n",
    "    \n",
    "    \n",
    "    # Dowload the file\n",
    "    print(\"Downloading file %s...\" %downurl)\n",
    "    res = requests.get(downurl, stream = True)\n",
    "    res.raise_for_status()\n",
    "    \n",
    "    # Content length\n",
    "    size = int(res.headers['Content-Length'])\n",
    "    mb = round(size/1048576, 2)\n",
    "    print('Content Size %s' %mb, ' MB')\n",
    "    \n",
    "    # url name manipulation\n",
    "    name = os.path.join(path, os.path.basename(downurl)).split('?')[0]\n",
    "    \n",
    "    down = 0\n",
    "    n = 0\n",
    "    chunk_size=1024\n",
    "    \n",
    "    # Save the file\n",
    "    with open(name, 'wb') as file:\n",
    "        for chunk in res.iter_content(chunk_size=chunk_size):\n",
    "            file.write(chunk)\n",
    "            \n",
    "            # Progress report\n",
    "            down += chunk_size\n",
    "            n += chunk_size\n",
    "            if n/size >= 0.2:\n",
    "                percent = int(round((down/size)*100, 0))\n",
    "                print(\"Download progress %s\" %percent, '%')\n",
    "                n = 0\n",
    "                \n",
    "f_name = name.rsplit('/', 1)[-1]\n",
    "print('Downloading %s done.' %f_name)\n",
    "\n",
    "end = datetime.now()\n",
    "dur = datetime.combine(end, end.time()) - datetime.combine(start, start.time())\n",
    "print('Download duration %s' %dur)"
   ]
  },
  {
   "cell_type": "markdown",
   "id": "47c5732b-f53b-4c59-ac6b-566ac51c3c67",
   "metadata": {
    "jp-MarkdownHeadingCollapsed": true,
    "tags": []
   },
   "source": [
    "### Reusable Snnipets"
   ]
  },
  {
   "cell_type": "code",
   "execution_count": null,
   "id": "d1e068e1-be44-4f76-a5c0-29e51ca07b44",
   "metadata": {},
   "outputs": [],
   "source": [
    "import requests\n",
    "import sys\n",
    "import time\n",
    "\n",
    "def downloadFile(url, directory) :\n",
    "  localFilename = url.split('/')[-1]\n",
    "  with open(directory + '/' + localFilename, 'wb') as f:\n",
    "    start = time.clock()\n",
    "    r = requests.get(url, stream=True)\n",
    "    total_length = r.headers.get('content-length')\n",
    "    dl = 0\n",
    "    if total_length is None: # no content length header\n",
    "      f.write(r.content)\n",
    "    else:\n",
    "      for chunk in r.iter_content(1024):\n",
    "        dl += len(chunk)\n",
    "        f.write(chunk)\n",
    "        done = int(50 * dl / total_length)\n",
    "        sys.stdout.write(\"\\r[%s%s] %s bps\" % ('=' * done, ' ' * (50-done), dl//(time.clock() - start)))\n",
    "        print ''\n",
    "  return (time.clock() - start)\n",
    "\n",
    "def main() :\n",
    "  if len(sys.argv) > 1 :\n",
    "        url = sys.argv[1]\n",
    "  else :\n",
    "        url = raw_input(\"Enter the URL : \")\n",
    "  directory = raw_input(\"Where would you want to save the file ?\")\n",
    "\n",
    "  time_elapsed = downloadFile(url, directory)\n",
    "  print \"Download complete...\"\n",
    "  print \"Time Elapsed: \" + time_elapsed"
   ]
  },
  {
   "cell_type": "code",
   "execution_count": null,
   "id": "f8717c87-71e2-4eb3-9231-bcdc3b55ab21",
   "metadata": {},
   "outputs": [],
   "source": [
    "import sys\n",
    "import requests\n",
    "\n",
    "link = \"http://indy/abcde1245\"\n",
    "file_name = \"download.data\"\n",
    "with open(file_name, \"wb\") as f:\n",
    "    print(\"Downloading %s\" % file_name)\n",
    "    response = requests.get(link, stream=True)\n",
    "    total_length = response.headers.get('content-length')\n",
    "\n",
    "    if total_length is None: # no content length header\n",
    "        f.write(response.content)\n",
    "    else:\n",
    "        dl = 0\n",
    "        total_length = int(total_length)\n",
    "        for data in response.iter_content(chunk_size=4096):\n",
    "            dl += len(data)\n",
    "            f.write(data)\n",
    "            done = int(50 * dl / total_length)\n",
    "            sys.stdout.write(\"\\r[%s%s]\" % ('=' * done, ' ' * (50-done)) )    \n",
    "            sys.stdout.flush()"
   ]
  }
 ],
 "metadata": {
  "kernelspec": {
   "display_name": "Python 3 (ipykernel)",
   "language": "python",
   "name": "python3"
  },
  "language_info": {
   "codemirror_mode": {
    "name": "ipython",
    "version": 3
   },
   "file_extension": ".py",
   "mimetype": "text/x-python",
   "name": "python",
   "nbconvert_exporter": "python",
   "pygments_lexer": "ipython3",
   "version": "3.9.0"
  }
 },
 "nbformat": 4,
 "nbformat_minor": 5
}
